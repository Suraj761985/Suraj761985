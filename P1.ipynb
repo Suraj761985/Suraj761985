{
  "nbformat": 4,
  "nbformat_minor": 0,
  "metadata": {
    "colab": {
      "provenance": []
    },
    "kernelspec": {
      "name": "python3",
      "display_name": "Python 3"
    },
    "language_info": {
      "name": "python"
    }
  },
  "cells": [
    {
      "cell_type": "code",
      "execution_count": 1,
      "metadata": {
        "colab": {
          "base_uri": "https://localhost:8080/"
        },
        "id": "UAdxbW9ql5PN",
        "outputId": "1ee8fffb-3ad5-4f34-c4c1-1f6820181219"
      },
      "outputs": [
        {
          "output_type": "stream",
          "name": "stdout",
          "text": [
            "<_csv.reader object at 0x7fc644213dd0>\n",
            "\n",
            "The given training examples are:\n",
            "['sky', 'airTemp', 'humidity', 'wind', 'water', 'forecast', 'enjoySport']\n",
            "['Sunny', 'Warm', 'Normal', 'Strong', 'Warm', 'Same', 'Yes']\n",
            "['Sunny', 'Warm', 'High', 'Strong', 'Warm', 'Same', 'Yes']\n",
            "['Rainy', 'Cold', 'High', 'Strong', 'Warm', 'Change', 'No']\n",
            "['Sunny', 'Warm', 'High', 'Strong', 'Cool', 'Change', 'Yes']\n"
          ]
        }
      ],
      "source": [
        "import csv\n",
        "hypo = ['%','%','%','%','%','%'];\n",
        "\n",
        "with open('trainingdata.csv') as csv_file:\n",
        "    readcsv = csv.reader(csv_file, delimiter=',')\n",
        "    print(readcsv)\n",
        "    \n",
        "    data = []\n",
        "    print(\"\\nThe given training examples are:\")\n",
        "    for row in readcsv:\n",
        "        print(row)\n",
        "        if row[len(row)-1].upper() == \"YES\":\n",
        "            data.append(row)"
      ]
    },
    {
      "cell_type": "code",
      "source": [
        "print(\"\\nThe positive examples are:\");\n",
        "for x in data:\n",
        "    print(x);\n",
        "print(\"\\n\");"
      ],
      "metadata": {
        "colab": {
          "base_uri": "https://localhost:8080/"
        },
        "id": "eA5-60j-nCUm",
        "outputId": "5a952ac0-6b01-4b0a-919a-bd32d0f65a2a"
      },
      "execution_count": 2,
      "outputs": [
        {
          "output_type": "stream",
          "name": "stdout",
          "text": [
            "\n",
            "The positive examples are:\n",
            "['Sunny', 'Warm', 'Normal', 'Strong', 'Warm', 'Same', 'Yes']\n",
            "['Sunny', 'Warm', 'High', 'Strong', 'Warm', 'Same', 'Yes']\n",
            "['Sunny', 'Warm', 'High', 'Strong', 'Cool', 'Change', 'Yes']\n",
            "\n",
            "\n"
          ]
        }
      ]
    },
    {
      "cell_type": "code",
      "source": [
        "TotalExamples = len(data);\n",
        "i=0;\n",
        "j=0;\n",
        "k=0;\n",
        "print(\"The steps of the Find-s algorithm are :\\n\",hypo);\n",
        "list = [];\n",
        "p=0;\n",
        "d=len(data[p])-1;\n",
        "for j in range(d):\n",
        "    list.append(data[i][j]);\n",
        "hypo=list;\n",
        "i=1;\n",
        "for i in range(TotalExamples):\n",
        "    for k in range(d):\n",
        "        if hypo[k]!=data[i][k]:\n",
        "            hypo[k]='?';\n",
        "            k=k+1;        \n",
        "        else:\n",
        "            hypo[k];\n",
        "    print(hypo);\n",
        "i=i+1;"
      ],
      "metadata": {
        "colab": {
          "base_uri": "https://localhost:8080/"
        },
        "id": "pLgXBwEAnEB9",
        "outputId": "25012abd-0a92-4a65-e837-7bd68288d97b"
      },
      "execution_count": 3,
      "outputs": [
        {
          "output_type": "stream",
          "name": "stdout",
          "text": [
            "The steps of the Find-s algorithm are :\n",
            " ['%', '%', '%', '%', '%', '%']\n",
            "['Sunny', 'Warm', 'Normal', 'Strong', 'Warm', 'Same']\n",
            "['Sunny', 'Warm', '?', 'Strong', 'Warm', 'Same']\n",
            "['Sunny', 'Warm', '?', 'Strong', '?', '?']\n"
          ]
        }
      ]
    },
    {
      "cell_type": "code",
      "source": [
        "print(\"\\nThe maximally specific Find-s hypothesis for the given training examples is :\");\n",
        "list=[];\n",
        "for i in range(d):\n",
        "    list.append(hypo[i]);\n",
        "print(list);"
      ],
      "metadata": {
        "colab": {
          "base_uri": "https://localhost:8080/"
        },
        "id": "b0VqyJQJnF13",
        "outputId": "2459ce2c-06de-44db-888d-23b5d2749dfa"
      },
      "execution_count": 4,
      "outputs": [
        {
          "output_type": "stream",
          "name": "stdout",
          "text": [
            "\n",
            "The maximally specific Find-s hypothesis for the given training examples is :\n",
            "['Sunny', 'Warm', '?', 'Strong', '?', '?']\n"
          ]
        }
      ]
    }
  ]
}