{
  "cells": [
    {
      "cell_type": "markdown",
      "id": "5cc35ce2-f484-4294-a903-e9cc5571561c",
      "metadata": {
        "id": "5cc35ce2-f484-4294-a903-e9cc5571561c"
      },
      "source": [
        "# Gradient Descent - House Prices"
      ]
    },
    {
      "cell_type": "markdown",
      "id": "04230fe4-35b0-4c00-b643-9500beff3c42",
      "metadata": {
        "id": "04230fe4-35b0-4c00-b643-9500beff3c42"
      },
      "source": [
        "### Preprocessing"
      ]
    },
    {
      "cell_type": "code",
      "execution_count": 1,
      "id": "1fa90cd2-b588-4ecd-a615-7b4ccc5c5738",
      "metadata": {
        "id": "1fa90cd2-b588-4ecd-a615-7b4ccc5c5738"
      },
      "outputs": [],
      "source": [
        "import numpy as np\n",
        "import pandas as pd\n",
        "import seaborn as sns\n",
        "import matplotlib.pyplot as plt\n",
        "sns.set_theme(style='darkgrid')"
      ]
    },
    {
      "cell_type": "code",
      "execution_count": 2,
      "id": "a72501e3-84a4-447d-9823-324f4107925b",
      "metadata": {
        "colab": {
          "base_uri": "https://localhost:8080/",
          "height": 206
        },
        "id": "a72501e3-84a4-447d-9823-324f4107925b",
        "outputId": "a8859546-46b4-4eb8-8420-961eb01f1a7f"
      },
      "outputs": [
        {
          "output_type": "execute_result",
          "data": {
            "text/plain": [
              "   area   price\n",
              "0  2600  550000\n",
              "1  3000  565000\n",
              "2  3200  610000\n",
              "3  3600  680000\n",
              "4  4000  725000"
            ],
            "text/html": [
              "\n",
              "  <div id=\"df-f8674e26-6629-4331-b12c-7d0f7e0ca7bc\">\n",
              "    <div class=\"colab-df-container\">\n",
              "      <div>\n",
              "<style scoped>\n",
              "    .dataframe tbody tr th:only-of-type {\n",
              "        vertical-align: middle;\n",
              "    }\n",
              "\n",
              "    .dataframe tbody tr th {\n",
              "        vertical-align: top;\n",
              "    }\n",
              "\n",
              "    .dataframe thead th {\n",
              "        text-align: right;\n",
              "    }\n",
              "</style>\n",
              "<table border=\"1\" class=\"dataframe\">\n",
              "  <thead>\n",
              "    <tr style=\"text-align: right;\">\n",
              "      <th></th>\n",
              "      <th>area</th>\n",
              "      <th>price</th>\n",
              "    </tr>\n",
              "  </thead>\n",
              "  <tbody>\n",
              "    <tr>\n",
              "      <th>0</th>\n",
              "      <td>2600</td>\n",
              "      <td>550000</td>\n",
              "    </tr>\n",
              "    <tr>\n",
              "      <th>1</th>\n",
              "      <td>3000</td>\n",
              "      <td>565000</td>\n",
              "    </tr>\n",
              "    <tr>\n",
              "      <th>2</th>\n",
              "      <td>3200</td>\n",
              "      <td>610000</td>\n",
              "    </tr>\n",
              "    <tr>\n",
              "      <th>3</th>\n",
              "      <td>3600</td>\n",
              "      <td>680000</td>\n",
              "    </tr>\n",
              "    <tr>\n",
              "      <th>4</th>\n",
              "      <td>4000</td>\n",
              "      <td>725000</td>\n",
              "    </tr>\n",
              "  </tbody>\n",
              "</table>\n",
              "</div>\n",
              "      <button class=\"colab-df-convert\" onclick=\"convertToInteractive('df-f8674e26-6629-4331-b12c-7d0f7e0ca7bc')\"\n",
              "              title=\"Convert this dataframe to an interactive table.\"\n",
              "              style=\"display:none;\">\n",
              "        \n",
              "  <svg xmlns=\"http://www.w3.org/2000/svg\" height=\"24px\"viewBox=\"0 0 24 24\"\n",
              "       width=\"24px\">\n",
              "    <path d=\"M0 0h24v24H0V0z\" fill=\"none\"/>\n",
              "    <path d=\"M18.56 5.44l.94 2.06.94-2.06 2.06-.94-2.06-.94-.94-2.06-.94 2.06-2.06.94zm-11 1L8.5 8.5l.94-2.06 2.06-.94-2.06-.94L8.5 2.5l-.94 2.06-2.06.94zm10 10l.94 2.06.94-2.06 2.06-.94-2.06-.94-.94-2.06-.94 2.06-2.06.94z\"/><path d=\"M17.41 7.96l-1.37-1.37c-.4-.4-.92-.59-1.43-.59-.52 0-1.04.2-1.43.59L10.3 9.45l-7.72 7.72c-.78.78-.78 2.05 0 2.83L4 21.41c.39.39.9.59 1.41.59.51 0 1.02-.2 1.41-.59l7.78-7.78 2.81-2.81c.8-.78.8-2.07 0-2.86zM5.41 20L4 18.59l7.72-7.72 1.47 1.35L5.41 20z\"/>\n",
              "  </svg>\n",
              "      </button>\n",
              "      \n",
              "  <style>\n",
              "    .colab-df-container {\n",
              "      display:flex;\n",
              "      flex-wrap:wrap;\n",
              "      gap: 12px;\n",
              "    }\n",
              "\n",
              "    .colab-df-convert {\n",
              "      background-color: #E8F0FE;\n",
              "      border: none;\n",
              "      border-radius: 50%;\n",
              "      cursor: pointer;\n",
              "      display: none;\n",
              "      fill: #1967D2;\n",
              "      height: 32px;\n",
              "      padding: 0 0 0 0;\n",
              "      width: 32px;\n",
              "    }\n",
              "\n",
              "    .colab-df-convert:hover {\n",
              "      background-color: #E2EBFA;\n",
              "      box-shadow: 0px 1px 2px rgba(60, 64, 67, 0.3), 0px 1px 3px 1px rgba(60, 64, 67, 0.15);\n",
              "      fill: #174EA6;\n",
              "    }\n",
              "\n",
              "    [theme=dark] .colab-df-convert {\n",
              "      background-color: #3B4455;\n",
              "      fill: #D2E3FC;\n",
              "    }\n",
              "\n",
              "    [theme=dark] .colab-df-convert:hover {\n",
              "      background-color: #434B5C;\n",
              "      box-shadow: 0px 1px 3px 1px rgba(0, 0, 0, 0.15);\n",
              "      filter: drop-shadow(0px 1px 2px rgba(0, 0, 0, 0.3));\n",
              "      fill: #FFFFFF;\n",
              "    }\n",
              "  </style>\n",
              "\n",
              "      <script>\n",
              "        const buttonEl =\n",
              "          document.querySelector('#df-f8674e26-6629-4331-b12c-7d0f7e0ca7bc button.colab-df-convert');\n",
              "        buttonEl.style.display =\n",
              "          google.colab.kernel.accessAllowed ? 'block' : 'none';\n",
              "\n",
              "        async function convertToInteractive(key) {\n",
              "          const element = document.querySelector('#df-f8674e26-6629-4331-b12c-7d0f7e0ca7bc');\n",
              "          const dataTable =\n",
              "            await google.colab.kernel.invokeFunction('convertToInteractive',\n",
              "                                                     [key], {});\n",
              "          if (!dataTable) return;\n",
              "\n",
              "          const docLinkHtml = 'Like what you see? Visit the ' +\n",
              "            '<a target=\"_blank\" href=https://colab.research.google.com/notebooks/data_table.ipynb>data table notebook</a>'\n",
              "            + ' to learn more about interactive tables.';\n",
              "          element.innerHTML = '';\n",
              "          dataTable['output_type'] = 'display_data';\n",
              "          await google.colab.output.renderOutput(dataTable, element);\n",
              "          const docLink = document.createElement('div');\n",
              "          docLink.innerHTML = docLinkHtml;\n",
              "          element.appendChild(docLink);\n",
              "        }\n",
              "      </script>\n",
              "    </div>\n",
              "  </div>\n",
              "  "
            ]
          },
          "metadata": {},
          "execution_count": 2
        }
      ],
      "source": [
        "df = pd.read_csv('hu.csv')\n",
        "df.head()"
      ]
    },
    {
      "cell_type": "code",
      "execution_count": 3,
      "id": "175603b6-9d63-4e82-933d-de1329c22f8e",
      "metadata": {
        "colab": {
          "base_uri": "https://localhost:8080/",
          "height": 300
        },
        "id": "175603b6-9d63-4e82-933d-de1329c22f8e",
        "outputId": "78a8c2fb-7156-4e68-cbe8-f331ad60abca"
      },
      "outputs": [
        {
          "output_type": "execute_result",
          "data": {
            "text/plain": [
              "              area          price\n",
              "count     5.000000       5.000000\n",
              "mean   3280.000000  626000.000000\n",
              "std     540.370243   74949.983322\n",
              "min    2600.000000  550000.000000\n",
              "25%    3000.000000  565000.000000\n",
              "50%    3200.000000  610000.000000\n",
              "75%    3600.000000  680000.000000\n",
              "max    4000.000000  725000.000000"
            ],
            "text/html": [
              "\n",
              "  <div id=\"df-d447afe2-6c52-410d-b0bb-32ff680bf356\">\n",
              "    <div class=\"colab-df-container\">\n",
              "      <div>\n",
              "<style scoped>\n",
              "    .dataframe tbody tr th:only-of-type {\n",
              "        vertical-align: middle;\n",
              "    }\n",
              "\n",
              "    .dataframe tbody tr th {\n",
              "        vertical-align: top;\n",
              "    }\n",
              "\n",
              "    .dataframe thead th {\n",
              "        text-align: right;\n",
              "    }\n",
              "</style>\n",
              "<table border=\"1\" class=\"dataframe\">\n",
              "  <thead>\n",
              "    <tr style=\"text-align: right;\">\n",
              "      <th></th>\n",
              "      <th>area</th>\n",
              "      <th>price</th>\n",
              "    </tr>\n",
              "  </thead>\n",
              "  <tbody>\n",
              "    <tr>\n",
              "      <th>count</th>\n",
              "      <td>5.000000</td>\n",
              "      <td>5.000000</td>\n",
              "    </tr>\n",
              "    <tr>\n",
              "      <th>mean</th>\n",
              "      <td>3280.000000</td>\n",
              "      <td>626000.000000</td>\n",
              "    </tr>\n",
              "    <tr>\n",
              "      <th>std</th>\n",
              "      <td>540.370243</td>\n",
              "      <td>74949.983322</td>\n",
              "    </tr>\n",
              "    <tr>\n",
              "      <th>min</th>\n",
              "      <td>2600.000000</td>\n",
              "      <td>550000.000000</td>\n",
              "    </tr>\n",
              "    <tr>\n",
              "      <th>25%</th>\n",
              "      <td>3000.000000</td>\n",
              "      <td>565000.000000</td>\n",
              "    </tr>\n",
              "    <tr>\n",
              "      <th>50%</th>\n",
              "      <td>3200.000000</td>\n",
              "      <td>610000.000000</td>\n",
              "    </tr>\n",
              "    <tr>\n",
              "      <th>75%</th>\n",
              "      <td>3600.000000</td>\n",
              "      <td>680000.000000</td>\n",
              "    </tr>\n",
              "    <tr>\n",
              "      <th>max</th>\n",
              "      <td>4000.000000</td>\n",
              "      <td>725000.000000</td>\n",
              "    </tr>\n",
              "  </tbody>\n",
              "</table>\n",
              "</div>\n",
              "      <button class=\"colab-df-convert\" onclick=\"convertToInteractive('df-d447afe2-6c52-410d-b0bb-32ff680bf356')\"\n",
              "              title=\"Convert this dataframe to an interactive table.\"\n",
              "              style=\"display:none;\">\n",
              "        \n",
              "  <svg xmlns=\"http://www.w3.org/2000/svg\" height=\"24px\"viewBox=\"0 0 24 24\"\n",
              "       width=\"24px\">\n",
              "    <path d=\"M0 0h24v24H0V0z\" fill=\"none\"/>\n",
              "    <path d=\"M18.56 5.44l.94 2.06.94-2.06 2.06-.94-2.06-.94-.94-2.06-.94 2.06-2.06.94zm-11 1L8.5 8.5l.94-2.06 2.06-.94-2.06-.94L8.5 2.5l-.94 2.06-2.06.94zm10 10l.94 2.06.94-2.06 2.06-.94-2.06-.94-.94-2.06-.94 2.06-2.06.94z\"/><path d=\"M17.41 7.96l-1.37-1.37c-.4-.4-.92-.59-1.43-.59-.52 0-1.04.2-1.43.59L10.3 9.45l-7.72 7.72c-.78.78-.78 2.05 0 2.83L4 21.41c.39.39.9.59 1.41.59.51 0 1.02-.2 1.41-.59l7.78-7.78 2.81-2.81c.8-.78.8-2.07 0-2.86zM5.41 20L4 18.59l7.72-7.72 1.47 1.35L5.41 20z\"/>\n",
              "  </svg>\n",
              "      </button>\n",
              "      \n",
              "  <style>\n",
              "    .colab-df-container {\n",
              "      display:flex;\n",
              "      flex-wrap:wrap;\n",
              "      gap: 12px;\n",
              "    }\n",
              "\n",
              "    .colab-df-convert {\n",
              "      background-color: #E8F0FE;\n",
              "      border: none;\n",
              "      border-radius: 50%;\n",
              "      cursor: pointer;\n",
              "      display: none;\n",
              "      fill: #1967D2;\n",
              "      height: 32px;\n",
              "      padding: 0 0 0 0;\n",
              "      width: 32px;\n",
              "    }\n",
              "\n",
              "    .colab-df-convert:hover {\n",
              "      background-color: #E2EBFA;\n",
              "      box-shadow: 0px 1px 2px rgba(60, 64, 67, 0.3), 0px 1px 3px 1px rgba(60, 64, 67, 0.15);\n",
              "      fill: #174EA6;\n",
              "    }\n",
              "\n",
              "    [theme=dark] .colab-df-convert {\n",
              "      background-color: #3B4455;\n",
              "      fill: #D2E3FC;\n",
              "    }\n",
              "\n",
              "    [theme=dark] .colab-df-convert:hover {\n",
              "      background-color: #434B5C;\n",
              "      box-shadow: 0px 1px 3px 1px rgba(0, 0, 0, 0.15);\n",
              "      filter: drop-shadow(0px 1px 2px rgba(0, 0, 0, 0.3));\n",
              "      fill: #FFFFFF;\n",
              "    }\n",
              "  </style>\n",
              "\n",
              "      <script>\n",
              "        const buttonEl =\n",
              "          document.querySelector('#df-d447afe2-6c52-410d-b0bb-32ff680bf356 button.colab-df-convert');\n",
              "        buttonEl.style.display =\n",
              "          google.colab.kernel.accessAllowed ? 'block' : 'none';\n",
              "\n",
              "        async function convertToInteractive(key) {\n",
              "          const element = document.querySelector('#df-d447afe2-6c52-410d-b0bb-32ff680bf356');\n",
              "          const dataTable =\n",
              "            await google.colab.kernel.invokeFunction('convertToInteractive',\n",
              "                                                     [key], {});\n",
              "          if (!dataTable) return;\n",
              "\n",
              "          const docLinkHtml = 'Like what you see? Visit the ' +\n",
              "            '<a target=\"_blank\" href=https://colab.research.google.com/notebooks/data_table.ipynb>data table notebook</a>'\n",
              "            + ' to learn more about interactive tables.';\n",
              "          element.innerHTML = '';\n",
              "          dataTable['output_type'] = 'display_data';\n",
              "          await google.colab.output.renderOutput(dataTable, element);\n",
              "          const docLink = document.createElement('div');\n",
              "          docLink.innerHTML = docLinkHtml;\n",
              "          element.appendChild(docLink);\n",
              "        }\n",
              "      </script>\n",
              "    </div>\n",
              "  </div>\n",
              "  "
            ]
          },
          "metadata": {},
          "execution_count": 3
        }
      ],
      "source": [
        "df.describe()"
      ]
    },
    {
      "cell_type": "code",
      "execution_count": 4,
      "id": "b108ae5f-56b8-4ca1-bee1-2c68ca472b90",
      "metadata": {
        "colab": {
          "base_uri": "https://localhost:8080/",
          "height": 285
        },
        "id": "b108ae5f-56b8-4ca1-bee1-2c68ca472b90",
        "outputId": "37a908b1-7e52-4ca3-8207-212b455baa2a"
      },
      "outputs": [
        {
          "output_type": "display_data",
          "data": {
            "text/plain": [
              "<Figure size 432x288 with 1 Axes>"
            ],
            "image/png": "[encoded data removed]"
          },
          "metadata": {}
        }
      ],
      "source": [
        "df.plot.scatter('area', 'price', color='red')\n",
        "plt.show()"
      ]
    },
    {
      "cell_type": "code",
      "execution_count": 5,
      "id": "a12d4e25-3c33-496c-8a45-39a906cd64eb",
      "metadata": {
        "id": "a12d4e25-3c33-496c-8a45-39a906cd64eb"
      },
      "outputs": [],
      "source": [
        "X_train = df.drop('price', axis=1)\n",
        "y_train = df.drop('area', axis=1)"
      ]
    },
    {
      "cell_type": "code",
      "execution_count": 6,
      "id": "c00ce075-491a-4104-8da4-93a465732542",
      "metadata": {
        "id": "c00ce075-491a-4104-8da4-93a465732542"
      },
      "outputs": [],
      "source": [
        "from sklearn import preprocessing\n",
        "scaler = preprocessing.StandardScaler()\n",
        "X_train_scaled = scaler.fit_transform(X_train)\n",
        "y_train_scaled = scaler.fit_transform(y_train)"
      ]
    },
    {
      "cell_type": "markdown",
      "id": "ead80c8e-5eb9-476b-8527-bad9ac7071e0",
      "metadata": {
        "id": "ead80c8e-5eb9-476b-8527-bad9ac7071e0"
      },
      "source": [
        "### Gradient Descent"
      ]
    },
    {
      "cell_type": "code",
      "execution_count": 7,
      "id": "68a1e081-6fa6-4237-a5c6-ed3802a518a9",
      "metadata": {
        "id": "68a1e081-6fa6-4237-a5c6-ed3802a518a9"
      },
      "outputs": [],
      "source": [
        "from sklearn.metrics import mean_squared_error\n",
        "\n",
        "def gradient_descent(X, y, theta, lr=0.01, steps=100):\n",
        "    N = len(y)\n",
        "    cost_history = np.zeros(steps)\n",
        "    theta_history = np.zeros((steps, 2))\n",
        "    for i in range(steps):\n",
        "        prediction = np.dot(X, theta)\n",
        "        theta = theta - (1 / N) * lr * (X.T.dot((prediction - y)))\n",
        "        theta_history[i, :] = theta.T\n",
        "        cost_history[i] = mean_squared_error(prediction, y)\n",
        "        \n",
        "    return theta, cost_history, theta_history"
      ]
    },
    {
      "cell_type": "code",
      "execution_count": 8,
      "id": "85e48c2d-943a-42df-90f3-4c03d41fc141",
      "metadata": {
        "id": "85e48c2d-943a-42df-90f3-4c03d41fc141"
      },
      "outputs": [],
      "source": [
        "lr = 0.1\n",
        "it = 50\n",
        "theta = np.random.randn(2, 1)\n",
        "\n",
        "X_b = np.c_[\n",
        "    X_train_scaled,\n",
        "    np.ones((len(X_train_scaled), 1))\n",
        "]\n",
        "\n",
        "_, cost, theta = gradient_descent(X_b, y_train_scaled, theta, lr, it)"
      ]
    },
    {
      "cell_type": "code",
      "execution_count": 9,
      "id": "30576731-f5ff-4422-90b8-1bc031666c31",
      "metadata": {
        "colab": {
          "base_uri": "https://localhost:8080/",
          "height": 268
        },
        "id": "30576731-f5ff-4422-90b8-1bc031666c31",
        "outputId": "af46587b-3135-4794-c2c6-109685a56556"
      },
      "outputs": [
        {
          "output_type": "display_data",
          "data": {
            "text/plain": [
              "<Figure size 432x288 with 1 Axes>"
            ],
            "image/png": "[encoded data removed]"
          },
          "metadata": {}
        }
      ],
      "source": [
        "sns.lineplot(x=range(1, 51), y=cost)\n",
        "plt.show()"
      ]
    },
    {
      "cell_type": "code",
      "execution_count": 10,
      "id": "626c8a1a-caad-4823-822e-c2a1c6c8ec29",
      "metadata": {
        "colab": {
          "base_uri": "https://localhost:8080/"
        },
        "id": "626c8a1a-caad-4823-822e-c2a1c6c8ec29",
        "outputId": "17e37338-9547-4816-8b7c-a1215aa92d4e"
      },
      "outputs": [
        {
          "output_type": "execute_result",
          "data": {
            "text/plain": [
              "array([1, 2])"
            ]
          },
          "metadata": {},
          "execution_count": 10
        }
      ],
      "source": [
        "np.array([1,2])"
      ]
    },
    {
      "cell_type": "code",
      "execution_count": 11,
      "id": "d19e2433-9d1a-4e7a-bacb-c3a3ccc2cc9b",
      "metadata": {
        "id": "d19e2433-9d1a-4e7a-bacb-c3a3ccc2cc9b"
      },
      "outputs": [],
      "source": [
        "theta_df = pd.DataFrame(theta)"
      ]
    },
    {
      "cell_type": "code",
      "execution_count": 12,
      "id": "771eaf73-7315-495d-b661-3791fb21d43b",
      "metadata": {
        "colab": {
          "base_uri": "https://localhost:8080/",
          "height": 274
        },
        "id": "771eaf73-7315-495d-b661-3791fb21d43b",
        "outputId": "12c5c3e3-10ab-4322-bb29-8373e23c4fd9"
      },
      "outputs": [
        {
          "output_type": "display_data",
          "data": {
            "text/plain": [
              "<Figure size 432x288 with 1 Axes>"
            ],
            "image/png": "[encoded data removed]"
          },
          "metadata": {}
        }
      ],
      "source": [
        "fig = plt.figure()\n",
        "ax = plt.axes(projection='3d')\n",
        "\n",
        "ax.plot_surface(theta_df[0], theta_df.drop(0, axis=1), np.array(cost).reshape(-1, 1), cmap='viridis', edgecolor='none')\n",
        "ax.set_title('Surface plot')\n",
        "plt.show()"
      ]
    },
    {
      "cell_type": "code",
      "execution_count": 13,
      "id": "e28e1d15-42e8-4645-a53d-12e70bd1e055",
      "metadata": {
        "colab": {
          "base_uri": "https://localhost:8080/",
          "height": 285
        },
        "id": "e28e1d15-42e8-4645-a53d-12e70bd1e055",
        "outputId": "f22e5bf8-b554-4e8b-a7d1-30c7bb28748a"
      },
      "outputs": [
        {
          "output_type": "display_data",
          "data": {
            "text/plain": [
              "<Figure size 432x288 with 1 Axes>"
            ],
            "image/png": "[encoded data removed]"
          },
          "metadata": {}
        }
      ],
      "source": [
        "sns.lineplot(x=theta_df[1], y=cost)\n",
        "plt.show()"
      ]
    },
    {
      "cell_type": "code",
      "execution_count": 14,
      "id": "15945545-d7da-4be8-b05d-b668394f791c",
      "metadata": {
        "colab": {
          "base_uri": "https://localhost:8080/",
          "height": 268
        },
        "id": "15945545-d7da-4be8-b05d-b668394f791c",
        "outputId": "e9fc4f5f-54a8-464a-ba97-d618d8fc2d56"
      },
      "outputs": [
        {
          "output_type": "display_data",
          "data": {
            "text/plain": [
              "<Figure size 432x288 with 1 Axes>"
            ],
            "image/png": "[encoded data removed]"
          },
          "metadata": {}
        }
      ],
      "source": [
        "plt.scatter(X_train_scaled, y_train_scaled, color='blue')\n",
        "for t in theta:\n",
        "    plt.plot(\n",
        "        X_train_scaled,\n",
        "        t[0] * X_train_scaled + t[1],\n",
        "        color='red',\n",
        "        alpha=0.1\n",
        "    )\n",
        "plt.show()"
      ]
    },
    {
      "cell_type": "code",
      "execution_count": 14,
      "id": "fdab1a31-d938-42aa-aa10-72bc49ff98a8",
      "metadata": {
        "id": "fdab1a31-d938-42aa-aa10-72bc49ff98a8"
      },
      "outputs": [],
      "source": []
    }
  ],
  "metadata": {
    "kernelspec": {
      "display_name": "Python 3 (ipykernel)",
      "language": "python",
      "name": "python3"
    },
    "language_info": {
      "codemirror_mode": {
        "name": "ipython",
        "version": 3
      },
      "file_extension": ".py",
      "mimetype": "text/x-python",
      "name": "python",
      "nbconvert_exporter": "python",
      "pygments_lexer": "ipython3",
      "version": "3.10.1"
    },
    "colab": {
      "provenance": []
    }
  },
  "nbformat": 4,
  "nbformat_minor": 5
}